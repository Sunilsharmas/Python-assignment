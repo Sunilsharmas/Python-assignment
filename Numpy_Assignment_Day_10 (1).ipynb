{
  "cells": [
    {
      "cell_type": "markdown",
      "metadata": {
        "id": "v_5a6dEGYukp"
      },
      "source": [
        "# <center> Numpy Basics </center>"
      ]
    },
    {
      "cell_type": "code",
      "execution_count": 190,
      "metadata": {
        "id": "NnhU92SsYukv"
      },
      "outputs": [],
      "source": [
        "#import numpy module with alias np\n",
        "\n",
        "import numpy as np"
      ]
    },
    {
      "cell_type": "markdown",
      "metadata": {
        "id": "onEY9HMeYuk0"
      },
      "source": [
        "We can create a NumPy ndarray object by using the array() function.\n",
        "To create an ndarray, we can pass a list, tuple or any array-like object into the array() method, and it will be converted into an ndarray:\n"
      ]
    },
    {
      "cell_type": "code",
      "execution_count": 191,
      "metadata": {
        "id": "BCdPh0rqYuk0",
        "colab": {
          "base_uri": "https://localhost:8080/"
        },
        "outputId": "f5523d4b-c94e-4978-cbf7-c6e556bb19d2"
      },
      "outputs": [
        {
          "output_type": "execute_result",
          "data": {
            "text/plain": [
              "array([1, 2, 3])"
            ]
          },
          "metadata": {},
          "execution_count": 191
        }
      ],
      "source": [
        "# Define a numpy array passing a list with  1,2 and 3 as elements in it\n",
        "arr=np.array([1,2,3,])\n",
        "arr\n"
      ]
    },
    {
      "cell_type": "code",
      "execution_count": 192,
      "metadata": {
        "id": "up-97mFyYuk1",
        "colab": {
          "base_uri": "https://localhost:8080/"
        },
        "outputId": "c0fecd44-e216-48c1-e715-cd506e5960f2"
      },
      "outputs": [
        {
          "output_type": "stream",
          "name": "stdout",
          "text": [
            "[1 2 3]\n"
          ]
        }
      ],
      "source": [
        "# print output\n",
        "\n",
        "print(arr)"
      ]
    },
    {
      "cell_type": "markdown",
      "metadata": {
        "id": "I5wC2n70Yuk2"
      },
      "source": [
        "## Dimensions in Arrays\n",
        "\n",
        "Create arrays of different dimentions.\n",
        "\n",
        "a=A numpy array with one single integer 10\n",
        "\n",
        "b=A numpy array passing a list having a list= [1,2,3]\n",
        "\n",
        "c=A numpy array passing nested list having [[1, 2, 3], [4, 5, 6]] as elements\n",
        "\n",
        "d=A numpy array passing nested list having [[[1, 2, 3], [4, 5, 6]], [[1, 2, 3], [4, 5, 6]]] as elements"
      ]
    },
    {
      "cell_type": "code",
      "execution_count": 193,
      "metadata": {
        "id": "75VeuGacYuk3"
      },
      "outputs": [],
      "source": [
        "#define a,b,c and d as instructed above\n",
        "\n",
        "a = np.array(10)\n",
        "b = np.array([1,2,3])\n",
        "c = np.array([[1, 2, 3], [4, 5, 6]])\n",
        "d = np.array([[[1, 2, 3], [4, 5, 6]], [[1, 2, 3], [4, 5, 6]]])\n",
        "\n"
      ]
    },
    {
      "cell_type": "markdown",
      "metadata": {
        "id": "qtUQhJgsYuk5"
      },
      "source": [
        "Are you ready to check its dimention? Use ndim attribute on each variable to check its dimention"
      ]
    },
    {
      "cell_type": "code",
      "execution_count": 194,
      "metadata": {
        "id": "WqRlO_elYuk6",
        "colab": {
          "base_uri": "https://localhost:8080/"
        },
        "outputId": "d2d46671-1da7-4b48-b20f-d191761791e8"
      },
      "outputs": [
        {
          "output_type": "stream",
          "name": "stdout",
          "text": [
            "0\n",
            "1\n",
            "2\n",
            "3\n"
          ]
        }
      ],
      "source": [
        "#print dimentions of a,b, c and d\n",
        "\n",
        "print(a.ndim)\n",
        "print(b.ndim)\n",
        "print(c.ndim)\n",
        "print(d.ndim)\n"
      ]
    },
    {
      "cell_type": "markdown",
      "metadata": {
        "id": "GdfDcthEYuk7"
      },
      "source": [
        "Hey hey. Did you see! you have created 0-D,1-DeprecationWarning, 2-D and 3-D arrays.\n",
        "\n",
        "Lets print there shape as well. You can check shape using shape attribute\n",
        "\n"
      ]
    },
    {
      "cell_type": "code",
      "execution_count": 195,
      "metadata": {
        "id": "Dbo7BMcNYuk8",
        "colab": {
          "base_uri": "https://localhost:8080/"
        },
        "outputId": "029c26c5-ea24-49cd-e313-a6605fd66121"
      },
      "outputs": [
        {
          "output_type": "stream",
          "name": "stdout",
          "text": [
            "()\n",
            "(3,)\n",
            "(2, 3)\n",
            "(2, 2, 3)\n"
          ]
        }
      ],
      "source": [
        "# print shape of each a,b ,c and d\n",
        "\n",
        "print(a.shape)\n",
        "print(b.shape)\n",
        "print(c.shape)\n",
        "print(d.shape)\n",
        "\n",
        "\n"
      ]
    },
    {
      "cell_type": "markdown",
      "metadata": {
        "id": "zznIHO2BYuk8"
      },
      "source": [
        "Lets check data type passed in our array. To check data type you can use dtype attribute"
      ]
    },
    {
      "cell_type": "code",
      "execution_count": 196,
      "metadata": {
        "id": "IqR87PE-Yuk9",
        "colab": {
          "base_uri": "https://localhost:8080/"
        },
        "outputId": "c0f125aa-dea7-4181-fa4a-c2508933ebfb"
      },
      "outputs": [
        {
          "output_type": "stream",
          "name": "stdout",
          "text": [
            "int64\n",
            "int64\n"
          ]
        }
      ],
      "source": [
        "# print data type of c and d\n",
        "\n",
        "print(c.dtype)\n",
        "print(d.dtype)\n",
        "\n",
        "\n"
      ]
    },
    {
      "cell_type": "markdown",
      "metadata": {
        "id": "bvZI9gIfYuk9"
      },
      "source": [
        "Above output mean our array is having int type elements in it."
      ]
    },
    {
      "cell_type": "markdown",
      "metadata": {
        "id": "JTIMcpHZYuk9"
      },
      "source": [
        "Lets check the type of our variable. To check type of any numpy variable use type() function"
      ]
    },
    {
      "cell_type": "code",
      "execution_count": 197,
      "metadata": {
        "id": "4XscrKR9Yuk9",
        "colab": {
          "base_uri": "https://localhost:8080/"
        },
        "outputId": "415a619d-09ee-45ad-a593-bdf35056f734"
      },
      "outputs": [
        {
          "output_type": "stream",
          "name": "stdout",
          "text": [
            "<class 'numpy.ndarray'>\n",
            "<class 'numpy.ndarray'>\n"
          ]
        }
      ],
      "source": [
        "#print type of a and b variable\n",
        "\n",
        "print(type(a))\n",
        "print(type(b))\n",
        "\n",
        "\n"
      ]
    },
    {
      "cell_type": "code",
      "execution_count": 198,
      "metadata": {
        "id": "cmEidey1Yuk9",
        "colab": {
          "base_uri": "https://localhost:8080/"
        },
        "outputId": "03b9f8dc-a669-4e69-e729-2a2b424051c2"
      },
      "outputs": [
        {
          "output_type": "execute_result",
          "data": {
            "text/plain": [
              "3"
            ]
          },
          "metadata": {},
          "execution_count": 198
        }
      ],
      "source": [
        "# Lets check length of array b, using len() function\n",
        "len(b)"
      ]
    },
    {
      "cell_type": "markdown",
      "metadata": {
        "id": "8k-sX7zmYuk-"
      },
      "source": [
        "Bravo!You have Defined ndarray i.e numpy array in variable a nd b. Also you have successfully learned how to create numpy."
      ]
    },
    {
      "cell_type": "code",
      "source": [],
      "metadata": {
        "id": "R4ylxj2I_Xra"
      },
      "execution_count": 198,
      "outputs": []
    },
    {
      "cell_type": "markdown",
      "metadata": {
        "id": "bl8PwahHYuk-"
      },
      "source": [
        "Create two list l1 and l2 where, l1=[10,20,30] and l2=[40,50,60]\n",
        "Also define two numpy arrays l3,l4 where l3 has l1 as element and l4 has l2 as element\n"
      ]
    },
    {
      "cell_type": "code",
      "execution_count": 199,
      "metadata": {
        "id": "-cZT6aZlYuk-"
      },
      "outputs": [],
      "source": [
        "# Define l1,l2,l3 and l4 as stated above.\n",
        "l1 = [10,20,30]\n",
        "l2 = [40,50,60]\n",
        "l3 = [10,20,30]\n",
        "l4 = [40,50,60]\n",
        "\n"
      ]
    },
    {
      "cell_type": "markdown",
      "metadata": {
        "id": "9muN0ZR5Yuk-"
      },
      "source": [
        "Lets multiply each elements of l1 with corresponding elements of l2\n",
        "\n",
        "Here use list comprehention to do so. Lets see how much you remember your work in other assignments.\n",
        "\n",
        "Note: use %timeit as prefix before your line of code inorder to calculate total time taken to run that line<br>\n",
        "eg. %timeit my_code"
      ]
    },
    {
      "cell_type": "code",
      "execution_count": 200,
      "metadata": {
        "id": "Gt0o_ZSCYuk_",
        "colab": {
          "base_uri": "https://localhost:8080/"
        },
        "outputId": "7f3a6b9b-453b-499d-a053-d71d516bd2c1"
      },
      "outputs": [
        {
          "output_type": "stream",
          "name": "stdout",
          "text": [
            "20.9 ns ± 7.18 ns per loop (mean ± std. dev. of 7 runs, 100000000 loops each)\n"
          ]
        }
      ],
      "source": [
        "#code here as instructed above\n",
        "multiply =  [x*y for x,y in zip (l1,l2)]\n",
        "%timeit (multiply)"
      ]
    },
    {
      "cell_type": "markdown",
      "metadata": {
        "id": "xT45pl-RYuk_"
      },
      "source": [
        "Lets mulptiply l3 and l4\n",
        "\n",
        "Note: use %timeit as prefix before your line of code inorder to calculate total time taken to run that line"
      ]
    },
    {
      "cell_type": "code",
      "execution_count": 201,
      "metadata": {
        "id": "SceA6IrwYuk_",
        "colab": {
          "base_uri": "https://localhost:8080/"
        },
        "outputId": "a0e2785b-a593-4792-d028-7660a5ff272c"
      },
      "outputs": [
        {
          "output_type": "stream",
          "name": "stdout",
          "text": [
            "16.3 ns ± 3.25 ns per loop (mean ± std. dev. of 7 runs, 100000000 loops each)\n"
          ]
        }
      ],
      "source": [
        " result=[x*y for x,y in zip (l3,l4)]\n",
        " result\n",
        " %timeit (result)"
      ]
    },
    {
      "cell_type": "markdown",
      "metadata": {
        "id": "CJrqooYWYuk_"
      },
      "source": [
        "Don't worry if still your one line of code is running. Its because your system is calculating total time taken to run your code.\n",
        "\n",
        "Did you notice buddy! time taken to multiply two lists takes more time than multiplyimg two numpy array.\n",
        "Hence proved that numpy arrays are faster than lists.\n",
        "\n",
        "**Fun Fact time!:**\n",
        "\n",
        "You know in many data science interviews it is asked that what is the difference between list and array.<br>\n"
      ]
    },
    {
      "cell_type": "code",
      "execution_count": 202,
      "metadata": {
        "id": "BnwTOtdDYulA",
        "colab": {
          "base_uri": "https://localhost:8080/"
        },
        "outputId": "7b3de24c-312a-4e1c-e347-9a15c0008305"
      },
      "outputs": [
        {
          "output_type": "execute_result",
          "data": {
            "text/plain": [
              "array([ 1,  2,  3,  4,  5,  6,  7,  8,  9, 10])"
            ]
          },
          "metadata": {},
          "execution_count": 202
        }
      ],
      "source": [
        "#Create a numpy array using arange with 1 and 11 as parameter in it\n",
        "\n",
        "arr=np.arange(1,11)\n",
        "arr\n"
      ]
    },
    {
      "cell_type": "markdown",
      "metadata": {
        "id": "QiuRfP4OYulA"
      },
      "source": [
        "This means using arrange we get evenly spaced values within a given interval. Interval? Yes you can mention interval as well as third parameter in it."
      ]
    },
    {
      "cell_type": "code",
      "execution_count": 203,
      "metadata": {
        "id": "TDdTXBZcYulA",
        "colab": {
          "base_uri": "https://localhost:8080/"
        },
        "outputId": "9d7bfc5e-334e-48be-d329-7a7898dfdeda"
      },
      "outputs": [
        {
          "output_type": "execute_result",
          "data": {
            "text/plain": [
              "array([1, 3, 5, 7, 9])"
            ]
          },
          "metadata": {},
          "execution_count": 203
        }
      ],
      "source": [
        "# Create an array using arange passing 1,11 and 2 as parameter in iter\n",
        "\n",
        "arr=np.arange(1,11,2)\n",
        "arr\n"
      ]
    },
    {
      "cell_type": "code",
      "execution_count": 204,
      "metadata": {
        "id": "IFYEePpeYulA",
        "colab": {
          "base_uri": "https://localhost:8080/"
        },
        "outputId": "6ff98812-2799-4cf5-b5a2-9ae2aefd9c07"
      },
      "outputs": [
        {
          "output_type": "execute_result",
          "data": {
            "text/plain": [
              "array([[1, 0, 0],\n",
              "       [0, 1, 0],\n",
              "       [0, 0, 1]])"
            ]
          },
          "metadata": {},
          "execution_count": 204
        }
      ],
      "source": [
        "# create numpy array using eye function with 3 as passed parameter\n",
        "\n",
        "array=np.eye(3).astype(int)\n",
        "array\n"
      ]
    },
    {
      "cell_type": "code",
      "execution_count": 205,
      "metadata": {
        "id": "rXpUyqTYYulD",
        "colab": {
          "base_uri": "https://localhost:8080/"
        },
        "outputId": "6da37901-8bd9-4f01-d439-a18cbf212edf"
      },
      "outputs": [
        {
          "output_type": "execute_result",
          "data": {
            "text/plain": [
              "array([ 1,  2,  3,  4,  5,  6,  7,  8,  9, 10, 11, 12, 13, 14, 15, 16])"
            ]
          },
          "metadata": {},
          "execution_count": 205
        }
      ],
      "source": [
        "# Using arange() to generate numpy array x with numbers between 1 to 16\n",
        "x=np.arange(1,17)\n",
        "x\n",
        "\n"
      ]
    },
    {
      "cell_type": "code",
      "execution_count": 206,
      "metadata": {
        "id": "JkQG8RyFYulE",
        "colab": {
          "base_uri": "https://localhost:8080/"
        },
        "outputId": "b44d2d08-3b5f-4003-f10f-37966c825c74"
      },
      "outputs": [
        {
          "output_type": "execute_result",
          "data": {
            "text/plain": [
              "array([[ 1,  2,  3,  4,  5,  6,  7,  8],\n",
              "       [ 9, 10, 11, 12, 13, 14, 15, 16]])"
            ]
          },
          "metadata": {},
          "execution_count": 206
        }
      ],
      "source": [
        "# Reshape x with 2 rows and 8 columns\n",
        "\n",
        "x=x.reshape(2,8)\n",
        "x"
      ]
    },
    {
      "cell_type": "markdown",
      "metadata": {
        "id": "Eu-DgBCRYulE"
      },
      "source": [
        "As you can see above that our x changed into 2D matrix\n",
        "\n",
        "2. Reshaping 1-D to 3-D array\n"
      ]
    },
    {
      "cell_type": "code",
      "execution_count": 207,
      "metadata": {
        "id": "Ue760dxYYulE",
        "colab": {
          "base_uri": "https://localhost:8080/"
        },
        "outputId": "5e9fbfc1-d6a3-4de9-ec82-65168c5372ee"
      },
      "outputs": [
        {
          "output_type": "execute_result",
          "data": {
            "text/plain": [
              "array([[[ 1,  2],\n",
              "        [ 3,  4],\n",
              "        [ 5,  6],\n",
              "        [ 7,  8]],\n",
              "\n",
              "       [[ 9, 10],\n",
              "        [11, 12],\n",
              "        [13, 14],\n",
              "        [15, 16]]])"
            ]
          },
          "metadata": {},
          "execution_count": 207
        }
      ],
      "source": [
        "# reshaoe x with dimension that will have 2 arrays that contains 4 arrays, each with 2 elements:\n",
        "\n",
        "x=x.reshape(2,4,2)\n",
        "x\n"
      ]
    },
    {
      "cell_type": "code",
      "execution_count": 208,
      "metadata": {
        "id": "xlfI-eC2YulE",
        "colab": {
          "base_uri": "https://localhost:8080/"
        },
        "outputId": "5342fc2b-4a43-4bec-a0da-fa2da7316a00"
      },
      "outputs": [
        {
          "output_type": "execute_result",
          "data": {
            "text/plain": [
              "array([[ 1,  2,  3,  4],\n",
              "       [ 5,  6,  7,  8],\n",
              "       [ 9, 10, 11, 12],\n",
              "       [13, 14, 15, 16]])"
            ]
          },
          "metadata": {},
          "execution_count": 208
        }
      ],
      "source": [
        "# Use unknown dimention to reshape x into 2-D numpy array with shape 4*4\n",
        "\n",
        "x=x.reshape(4,4)\n",
        "x\n"
      ]
    },
    {
      "cell_type": "code",
      "execution_count": 209,
      "metadata": {
        "id": "NDRDRGkUYulE",
        "colab": {
          "base_uri": "https://localhost:8080/"
        },
        "outputId": "1c83286b-1da2-4833-b945-76f0ec670e27"
      },
      "outputs": [
        {
          "output_type": "stream",
          "name": "stdout",
          "text": [
            "[[[ 1  2]\n",
            "  [ 3  4]\n",
            "  [ 5  6]\n",
            "  [ 7  8]]\n",
            "\n",
            " [[ 9 10]\n",
            "  [11 12]\n",
            "  [13 14]\n",
            "  [15 16]]]\n"
          ]
        }
      ],
      "source": [
        "# Use unknown dimention to  reshape x into 3-D numpy array with 2 arrays that contains 4 arrays\n",
        "y=x.reshape(2,4,-1)\n",
        "print (y)\n",
        "\n"
      ]
    },
    {
      "cell_type": "code",
      "execution_count": 210,
      "metadata": {
        "id": "iHuEimtTYulF",
        "colab": {
          "base_uri": "https://localhost:8080/"
        },
        "outputId": "40cf1999-e888-426b-ee5e-eb6b4acdada8"
      },
      "outputs": [
        {
          "output_type": "execute_result",
          "data": {
            "text/plain": [
              "array([ 1,  2,  3,  4,  5,  6,  7,  8,  9, 10, 11, 12, 13, 14, 15, 16])"
            ]
          },
          "metadata": {},
          "execution_count": 210
        }
      ],
      "source": [
        "# Flattening y\n",
        "\n",
        "Flattening=y.flatten()\n",
        "Flattening\n"
      ]
    },
    {
      "cell_type": "code",
      "execution_count": 211,
      "metadata": {
        "id": "liRM5zN0YulF",
        "colab": {
          "base_uri": "https://localhost:8080/"
        },
        "outputId": "8eacb1f6-1482-43e3-9c59-9784fce61cdf"
      },
      "outputs": [
        {
          "output_type": "stream",
          "name": "stdout",
          "text": [
            "[ 2  4  6  8 10 12 14 16]\n"
          ]
        }
      ],
      "source": [
        "# Create an array a with all even numbers between 1 to 17\n",
        "a = np.arange(2,17,2)\n",
        "print(a)\n"
      ]
    },
    {
      "cell_type": "code",
      "execution_count": 212,
      "metadata": {
        "id": "GysmjjOQYulF",
        "colab": {
          "base_uri": "https://localhost:8080/"
        },
        "outputId": "9789cbee-945e-46c1-ff3d-4070c6ca6c2e"
      },
      "outputs": [
        {
          "output_type": "stream",
          "name": "stdout",
          "text": [
            "6\n"
          ]
        }
      ],
      "source": [
        "# Get third element in array a\n",
        "print(a[2])"
      ]
    },
    {
      "cell_type": "code",
      "execution_count": 213,
      "metadata": {
        "id": "QJDw7E2VYulF",
        "colab": {
          "base_uri": "https://localhost:8080/"
        },
        "outputId": "5047bcc2-8700-44a8-bc1f-126480b5755c"
      },
      "outputs": [
        {
          "output_type": "stream",
          "name": "stdout",
          "text": [
            "[ 6 10 14]\n"
          ]
        }
      ],
      "source": [
        "#Print 3rd, 5th, and 7th element in array a\n",
        "\n",
        "print(a[2:7:2])\n"
      ]
    },
    {
      "cell_type": "markdown",
      "metadata": {
        "id": "6FauyJCQYulF"
      },
      "source": [
        "Lets check the same for 2 D array"
      ]
    },
    {
      "cell_type": "code",
      "execution_count": 214,
      "metadata": {
        "id": "yomRzY6aYulF",
        "colab": {
          "base_uri": "https://localhost:8080/"
        },
        "outputId": "73395cc3-9e31-4653-b7e8-cea4417e8762"
      },
      "outputs": [
        {
          "output_type": "execute_result",
          "data": {
            "text/plain": [
              "array([[1, 2, 3],\n",
              "       [4, 5, 6],\n",
              "       [7, 8, 9]])"
            ]
          },
          "metadata": {},
          "execution_count": 214
        }
      ],
      "source": [
        "# Define an array 2-D a with [[1,2,3],[4,5,6],[7,8,9]] as its elements.\n",
        "a =np.array([[1,2,3],[4,5,6],[7,8,9]])\n",
        "a\n"
      ]
    },
    {
      "cell_type": "code",
      "execution_count": 215,
      "metadata": {
        "id": "VTGpLidrYulF",
        "colab": {
          "base_uri": "https://localhost:8080/"
        },
        "outputId": "2c7909aa-044f-4fe6-961b-92320130e68b"
      },
      "outputs": [
        {
          "output_type": "stream",
          "name": "stdout",
          "text": [
            "9\n"
          ]
        }
      ],
      "source": [
        "# print the 3rd element from the 3rd row of a\n",
        "\n",
        "print(a[2,2])"
      ]
    },
    {
      "cell_type": "markdown",
      "metadata": {
        "id": "-fPw_4ZBYulF"
      },
      "source": [
        "Well done!\n",
        "\n",
        "Now lets check indexing for 3 D array"
      ]
    },
    {
      "cell_type": "code",
      "execution_count": 216,
      "metadata": {
        "id": "VISPaw3PYulG",
        "colab": {
          "base_uri": "https://localhost:8080/"
        },
        "outputId": "36a023f6-c040-46dd-ca55-c776b95f8731"
      },
      "outputs": [
        {
          "output_type": "execute_result",
          "data": {
            "text/plain": [
              "array([[[ 1,  2,  3],\n",
              "        [ 4,  5,  6]],\n",
              "\n",
              "       [[ 7,  8,  9],\n",
              "        [10, 11, 12]]])"
            ]
          },
          "metadata": {},
          "execution_count": 216
        }
      ],
      "source": [
        "# Define an array b again with [[[1, 2, 3], [4, 5, 6]], [[7, 8, 9], [10, 11, 12]]] as its elements.\n",
        "b = np.array([[[1, 2, 3], [4, 5, 6]], [[7, 8, 9], [10, 11, 12]]])\n",
        "b\n",
        "\n",
        "\n",
        "\n"
      ]
    },
    {
      "cell_type": "code",
      "execution_count": 217,
      "metadata": {
        "id": "UrFj656mYulG",
        "colab": {
          "base_uri": "https://localhost:8080/"
        },
        "outputId": "8f7ade32-9c56-473d-8363-81e8718d43a4"
      },
      "outputs": [
        {
          "output_type": "stream",
          "name": "stdout",
          "text": [
            "9\n"
          ]
        }
      ],
      "source": [
        "# Print 3rd element from 2nd list which is 1st list in nested list passed. Confusing right? 'a' have nested array.Understand the braket differences.\n",
        "\n",
        "\n",
        "print(b[1,0,2])\n"
      ]
    },
    {
      "cell_type": "code",
      "execution_count": 218,
      "metadata": {
        "id": "9ZadW42fYulG",
        "colab": {
          "base_uri": "https://localhost:8080/"
        },
        "outputId": "0f85665a-3d56-43c4-c5c7-28e3d3296c29"
      },
      "outputs": [
        {
          "output_type": "execute_result",
          "data": {
            "text/plain": [
              "array([1, 2, 3, 4, 5, 6, 7, 8, 9])"
            ]
          },
          "metadata": {},
          "execution_count": 218
        }
      ],
      "source": [
        "# Create 1D array\n",
        "\n",
        "arr= np.arange(1,10)\n",
        "arr\n",
        "\n",
        "\n"
      ]
    },
    {
      "cell_type": "code",
      "execution_count": 219,
      "metadata": {
        "id": "fm2dtL6EYulG",
        "colab": {
          "base_uri": "https://localhost:8080/"
        },
        "outputId": "7addc279-cf5b-48cd-ba6c-38d9bfeb1d40"
      },
      "outputs": [
        {
          "output_type": "stream",
          "name": "stdout",
          "text": [
            "[1 2 3 4 5]\n"
          ]
        }
      ],
      "source": [
        "# Slice elements from 1st to 5th element from the following array:\n",
        "\n",
        "print(arr[0:5])\n"
      ]
    },
    {
      "cell_type": "markdown",
      "metadata": {
        "id": "ghqluYgMYulG"
      },
      "source": [
        "Note: The result includes the start index, but excludes the end index.\n",
        "\n"
      ]
    },
    {
      "cell_type": "code",
      "execution_count": 220,
      "metadata": {
        "id": "g4uVBo1oYulH",
        "colab": {
          "base_uri": "https://localhost:8080/"
        },
        "outputId": "6cbccc25-22e9-49ba-f22e-54f9597cd258"
      },
      "outputs": [
        {
          "output_type": "stream",
          "name": "stdout",
          "text": [
            "[6 7 8 9]\n"
          ]
        }
      ],
      "source": [
        "# Slice elements from index 5 to the end of the array:\n",
        "\n",
        "print(arr[5:])\n"
      ]
    },
    {
      "cell_type": "code",
      "execution_count": 221,
      "metadata": {
        "id": "1t4V3OSaYulH",
        "colab": {
          "base_uri": "https://localhost:8080/"
        },
        "outputId": "487c29aa-3b4e-4399-91fe-b25c4cd4922b"
      },
      "outputs": [
        {
          "output_type": "stream",
          "name": "stdout",
          "text": [
            "[1 2 3 4 5]\n"
          ]
        }
      ],
      "source": [
        "# Slice elements from the beginning to index 5 (not included):\n",
        "\n",
        "print(arr[:5])\n"
      ]
    },
    {
      "cell_type": "markdown",
      "metadata": {
        "id": "_sk9yNamYulH"
      },
      "source": [
        "**STEP**\n",
        "\n",
        "Use the step value to determine the step of the slicing:"
      ]
    },
    {
      "cell_type": "code",
      "execution_count": 222,
      "metadata": {
        "id": "1OXANncfYulH",
        "colab": {
          "base_uri": "https://localhost:8080/"
        },
        "outputId": "2b2979e2-e22d-4b79-ac36-7433e47cb3ea"
      },
      "outputs": [
        {
          "output_type": "stream",
          "name": "stdout",
          "text": [
            "[2 4 6 8]\n"
          ]
        }
      ],
      "source": [
        "# Print every other element from index 1 to index 7:\n",
        "\n",
        "print(arr[1:8:2])\n"
      ]
    },
    {
      "cell_type": "markdown",
      "metadata": {
        "id": "mpk1-Nd2YulH"
      },
      "source": [
        "Did you see? using step you were able to get alternate elements within specified index numbers."
      ]
    },
    {
      "cell_type": "code",
      "execution_count": 223,
      "metadata": {
        "id": "HxPLcXudYulH",
        "colab": {
          "base_uri": "https://localhost:8080/"
        },
        "outputId": "fd3bd99e-1148-47d3-da81-4bda1af6f713"
      },
      "outputs": [
        {
          "output_type": "stream",
          "name": "stdout",
          "text": [
            "[1 3 5 7 9]\n"
          ]
        }
      ],
      "source": [
        "# Return every other element from the entire array arr:\n",
        "\n",
        "print(arr[::2])\n"
      ]
    },
    {
      "cell_type": "markdown",
      "metadata": {
        "id": "d3m3TAVKYulH"
      },
      "source": [
        "well done!\n",
        "\n",
        "Lets do some slicing on 2-D array also. We already have 'a' as our 2-D array. We will use it here.\n",
        "\n",
        "**Array slicing in 2-D array.**"
      ]
    },
    {
      "cell_type": "code",
      "execution_count": 224,
      "metadata": {
        "id": "rPVvZ707YulI",
        "colab": {
          "base_uri": "https://localhost:8080/"
        },
        "outputId": "c27d16c3-1d06-4d93-faa4-7572467d7ed4"
      },
      "outputs": [
        {
          "output_type": "stream",
          "name": "stdout",
          "text": [
            "[[1 2 3]\n",
            " [4 5 6]\n",
            " [7 8 9]]\n"
          ]
        }
      ],
      "source": [
        "# Print array a\n",
        "print(a)\n"
      ]
    },
    {
      "cell_type": "code",
      "execution_count": 225,
      "metadata": {
        "id": "uGHClMHiYulI",
        "colab": {
          "base_uri": "https://localhost:8080/"
        },
        "outputId": "57269272-80a8-4fea-adf2-a7739108e01b"
      },
      "outputs": [
        {
          "output_type": "stream",
          "name": "stdout",
          "text": [
            "[8 9]\n"
          ]
        }
      ],
      "source": [
        "# From the third element, slice elements from index 1 to index 5 (not included) from array 'a'\n",
        "\n",
        "print(a[2,1:5])\n"
      ]
    },
    {
      "cell_type": "code",
      "execution_count": 249,
      "metadata": {
        "id": "mApmbts7YulI",
        "colab": {
          "base_uri": "https://localhost:8080/"
        },
        "outputId": "3eba86e4-30c8-450b-f6d6-b196e51d6ec8"
      },
      "outputs": [
        {
          "output_type": "stream",
          "name": "stdout",
          "text": [
            "[7 8 9]\n"
          ]
        }
      ],
      "source": [
        "# In array 'a' print index 2 from all the elements :\n",
        "\n",
        "print(a[2])\n"
      ]
    },
    {
      "cell_type": "code",
      "execution_count": 250,
      "metadata": {
        "id": "XupmT4oLYulI",
        "colab": {
          "base_uri": "https://localhost:8080/"
        },
        "outputId": "027f051c-d70f-4976-92aa-64a178e2fa78"
      },
      "outputs": [
        {
          "output_type": "stream",
          "name": "stdout",
          "text": [
            "[[4 5 6]\n",
            " [7 8 9]]\n"
          ]
        }
      ],
      "source": [
        "# From all the elements in 'a', slice index 1 till end, this will return a 2-D array:\n",
        "\n",
        "print(a[1:])\n"
      ]
    },
    {
      "cell_type": "markdown",
      "metadata": {
        "id": "3-YDc-LnYulI"
      },
      "source": [
        "Hurray! You have learned Slicing in Numpy array. Now you know to access any numpy array."
      ]
    },
    {
      "cell_type": "markdown",
      "metadata": {
        "id": "kCiQoJ7DYulI"
      },
      "source": [
        "## Numpy copy vs view"
      ]
    },
    {
      "cell_type": "code",
      "execution_count": 251,
      "metadata": {
        "id": "qMAPlnpnYulI",
        "colab": {
          "base_uri": "https://localhost:8080/"
        },
        "outputId": "e46a8eb1-571c-479a-e912-9ccddcd72564"
      },
      "outputs": [
        {
          "output_type": "execute_result",
          "data": {
            "text/plain": [
              "array([0, 1, 2, 3, 4, 5, 6, 7, 8, 9])"
            ]
          },
          "metadata": {},
          "execution_count": 251
        }
      ],
      "source": [
        "x1= np.arange(10)\n",
        "x1\n",
        "\n"
      ]
    },
    {
      "cell_type": "code",
      "execution_count": 253,
      "metadata": {
        "id": "Fjjpvmw4YulI",
        "colab": {
          "base_uri": "https://localhost:8080/"
        },
        "outputId": "8537d3c2-dbf9-40c8-a5fa-6fc4416f9c52"
      },
      "outputs": [
        {
          "output_type": "execute_result",
          "data": {
            "text/plain": [
              "array([0, 1, 2, 3, 4, 5, 6, 7, 8, 9])"
            ]
          },
          "metadata": {},
          "execution_count": 253
        }
      ],
      "source": [
        "# assign x2 = x1\n",
        "x2=x1\n",
        "x2"
      ]
    },
    {
      "cell_type": "code",
      "execution_count": 254,
      "metadata": {
        "id": "CZ8h9KxSYulI",
        "colab": {
          "base_uri": "https://localhost:8080/"
        },
        "outputId": "58d9dcfe-72f1-41bc-f895-5533a5e04844"
      },
      "outputs": [
        {
          "output_type": "stream",
          "name": "stdout",
          "text": [
            "[0 1 2 3 4 5 6 7 8 9]\n",
            "[0 1 2 3 4 5 6 7 8 9]\n"
          ]
        }
      ],
      "source": [
        "#print x1 and x2\n",
        "print(x1)\n",
        "print(x2)\n",
        "\n"
      ]
    },
    {
      "cell_type": "markdown",
      "metadata": {
        "id": "CAOn1lSVYulI"
      },
      "source": [
        "Ok now you have seen that both of them are same"
      ]
    },
    {
      "cell_type": "code",
      "execution_count": 255,
      "metadata": {
        "id": "H12TCKrSYulJ",
        "colab": {
          "base_uri": "https://localhost:8080/"
        },
        "outputId": "0ea07226-13b1-41b6-9eaa-3ca4c439b1c0"
      },
      "outputs": [
        {
          "output_type": "execute_result",
          "data": {
            "text/plain": [
              "array([10,  1,  2,  3,  4,  5,  6,  7,  8,  9])"
            ]
          },
          "metadata": {},
          "execution_count": 255
        }
      ],
      "source": [
        "# change 1st element of x2 as 10\n",
        "\n",
        "x2[0]=10\n",
        "x2\n"
      ]
    },
    {
      "cell_type": "code",
      "execution_count": 256,
      "metadata": {
        "id": "jO5qSqZVYulJ",
        "colab": {
          "base_uri": "https://localhost:8080/"
        },
        "outputId": "81792d8a-f903-444a-8b04-a48de7078cd0"
      },
      "outputs": [
        {
          "output_type": "stream",
          "name": "stdout",
          "text": [
            "[10  1  2  3  4  5  6  7  8  9]\n",
            "[10  1  2  3  4  5  6  7  8  9]\n"
          ]
        }
      ],
      "source": [
        "#Again print x1 and x2\n",
        "\n",
        "print(x1)\n",
        "print(x2)\n"
      ]
    },
    {
      "cell_type": "code",
      "execution_count": 257,
      "metadata": {
        "id": "wruaMhObYulJ",
        "colab": {
          "base_uri": "https://localhost:8080/"
        },
        "outputId": "9b79892e-9de4-409a-ffa5-32c072a2c637"
      },
      "outputs": [
        {
          "output_type": "stream",
          "name": "stdout",
          "text": [
            "True\n"
          ]
        }
      ],
      "source": [
        "# Check memory share between x1 and x2\n",
        "\n",
        "print(np.shares_memory(x1,x2))"
      ]
    },
    {
      "cell_type": "markdown",
      "metadata": {
        "id": "8FfiAWw_YulJ"
      },
      "source": [
        "Hey It's True they both share memory\n",
        "\n",
        "Shall we try **view()** function also likwise."
      ]
    },
    {
      "cell_type": "code",
      "execution_count": 258,
      "metadata": {
        "id": "ylweEJUtYulJ",
        "colab": {
          "base_uri": "https://localhost:8080/"
        },
        "outputId": "e7dae7c1-2adb-4e83-cfbd-25f106740008"
      },
      "outputs": [
        {
          "output_type": "execute_result",
          "data": {
            "text/plain": [
              "array([10,  1,  2,  3,  4,  5,  6,  7,  8,  9])"
            ]
          },
          "metadata": {},
          "execution_count": 258
        }
      ],
      "source": [
        "# Create a view of x1 and store it in x3.\n",
        "x3 = x1.view()\n",
        "x3\n"
      ]
    },
    {
      "cell_type": "code",
      "execution_count": 259,
      "metadata": {
        "id": "La-iF23VYulJ",
        "colab": {
          "base_uri": "https://localhost:8080/"
        },
        "outputId": "0c0bb174-8089-481a-fe9d-225f6c5266f5"
      },
      "outputs": [
        {
          "output_type": "stream",
          "name": "stdout",
          "text": [
            "True\n"
          ]
        }
      ],
      "source": [
        "# Again check memory share between x1 and x3\n",
        "\n",
        "\n",
        "print(np.shares_memory(x1,x3))"
      ]
    },
    {
      "cell_type": "markdown",
      "metadata": {
        "id": "vkE_1h-5YulJ"
      },
      "source": [
        "Woh! simple assignment is similar to view. That means\n",
        "The view does not own the data and any changes made to the view will affect the original array, and any changes made to the original array will affect the view.\n",
        "\n",
        "Don't agree? ok lets change x3 and see if original array i.e. x1 also changes"
      ]
    },
    {
      "cell_type": "code",
      "execution_count": 260,
      "metadata": {
        "id": "34UnXXvwYulJ",
        "colab": {
          "base_uri": "https://localhost:8080/"
        },
        "outputId": "04bca332-a4ac-43ce-e8f0-d0265d38fdaf"
      },
      "outputs": [
        {
          "output_type": "execute_result",
          "data": {
            "text/plain": [
              "array([100,   1,   2,   3,   4,   5,   6,   7,   8,   9])"
            ]
          },
          "metadata": {},
          "execution_count": 260
        }
      ],
      "source": [
        "#Change 1st element of x3=100\n",
        "\n",
        "x3[0]=100\n",
        "x3"
      ]
    },
    {
      "cell_type": "code",
      "execution_count": 262,
      "metadata": {
        "id": "p64U7WsGYulJ",
        "colab": {
          "base_uri": "https://localhost:8080/"
        },
        "outputId": "191bdf58-7adf-4e39-a652-759000de880f"
      },
      "outputs": [
        {
          "output_type": "stream",
          "name": "stdout",
          "text": [
            "[100   1   2   3   4   5   6   7   8   9]\n",
            "[100   1   2   3   4   5   6   7   8   9]\n"
          ]
        }
      ],
      "source": [
        "#print x1 and x3 to check if changes reflected in both\n",
        "print(x1)\n",
        "print(x3)\n",
        "\n"
      ]
    },
    {
      "cell_type": "markdown",
      "metadata": {
        "id": "aPgZUErOYulK"
      },
      "source": [
        "Now its proved.\n",
        "\n",
        "Lets see how **Copy()** function works"
      ]
    },
    {
      "cell_type": "code",
      "execution_count": 263,
      "metadata": {
        "id": "AB_dXmMrYulK",
        "colab": {
          "base_uri": "https://localhost:8080/"
        },
        "outputId": "d45005b9-b8f2-444a-c84c-b3d1062d0e31"
      },
      "outputs": [
        {
          "output_type": "execute_result",
          "data": {
            "text/plain": [
              "array([100,   1,   2,   3,   4,   5,   6,   7,   8,   9])"
            ]
          },
          "metadata": {},
          "execution_count": 263
        }
      ],
      "source": [
        "# Now create an array x4 which is copy of x1\n",
        "\n",
        "x4=x1.copy()\n",
        "x4\n",
        "\n"
      ]
    },
    {
      "cell_type": "code",
      "execution_count": 265,
      "metadata": {
        "id": "8_Ub7cuZYulK",
        "colab": {
          "base_uri": "https://localhost:8080/"
        },
        "outputId": "9f0c96c3-3fd7-42ca-a511-13d39d98e0e8"
      },
      "outputs": [
        {
          "output_type": "execute_result",
          "data": {
            "text/plain": [
              "array([100,   1,   2,   3,   4,   5,   6,   7,   8, 900])"
            ]
          },
          "metadata": {},
          "execution_count": 265
        }
      ],
      "source": [
        "# Change the last element of x4 as 900\n",
        "\n",
        "x4[9]=900\n",
        "x4\n",
        "\n"
      ]
    },
    {
      "cell_type": "code",
      "execution_count": 266,
      "metadata": {
        "id": "xEUDBraHYulK",
        "colab": {
          "base_uri": "https://localhost:8080/"
        },
        "outputId": "f93d7d09-98a9-4c63-feaa-9c155b7a7601"
      },
      "outputs": [
        {
          "output_type": "stream",
          "name": "stdout",
          "text": [
            "[100   1   2   3   4   5   6   7   8   9]\n",
            "[100   1   2   3   4   5   6   7   8 900]\n"
          ]
        }
      ],
      "source": [
        "# print both x1 and x4 to check if changes reflected in both\n",
        "\n",
        "\n",
        "print(x1)\n",
        "print(x4)\n",
        "\n"
      ]
    },
    {
      "cell_type": "markdown",
      "metadata": {
        "id": "uMfFQMlNYulK"
      },
      "source": [
        "Hey! such an intresting output. You noticed buddy! your original array didn't get changed on change of its copy ie. x4.\n",
        "\n",
        "Still not convinced? Ok lets see if they both share memory or not"
      ]
    },
    {
      "cell_type": "code",
      "execution_count": 269,
      "metadata": {
        "id": "VZbJx19hYulK",
        "colab": {
          "base_uri": "https://localhost:8080/"
        },
        "outputId": "a4be6229-6ff1-4917-e49d-82344df4933a"
      },
      "outputs": [
        {
          "output_type": "stream",
          "name": "stdout",
          "text": [
            "False\n"
          ]
        }
      ],
      "source": [
        "#Check memory share between x1 and x4\n",
        "\n",
        "print(np.shares_memory(x1,x4))\n"
      ]
    },
    {
      "cell_type": "markdown",
      "metadata": {
        "id": "1vgtMyk8YulM"
      },
      "source": [
        "**hstack vs vstack function**\n",
        "\n",
        "\n",
        "Stacking is same as concatenation, the only difference is that stacking is done along a new axis.\n",
        "\n",
        "NumPy provides a helper function:\n",
        "\n",
        "1. hstack() to stack along rows.\n",
        "2. vstack()  to stack along columns"
      ]
    },
    {
      "cell_type": "code",
      "execution_count": 270,
      "metadata": {
        "id": "8iXSmEsmYulM",
        "colab": {
          "base_uri": "https://localhost:8080/"
        },
        "outputId": "dc623296-35bf-44d8-9944-b2ce19330fea"
      },
      "outputs": [
        {
          "output_type": "execute_result",
          "data": {
            "text/plain": [
              "array([[100, 100],\n",
              "       [  1,   1],\n",
              "       [  2,   2],\n",
              "       [  3,   3],\n",
              "       [  4,   4],\n",
              "       [  5,   5],\n",
              "       [  6,   6],\n",
              "       [  7,   7],\n",
              "       [  8,   8],\n",
              "       [  9, 900]])"
            ]
          },
          "metadata": {},
          "execution_count": 270
        }
      ],
      "source": [
        "# stack x1 and x4 along columns.\n",
        "col_stack=np.stack((x1,x4),axis=1)\n",
        "col_stack\n"
      ]
    },
    {
      "cell_type": "code",
      "execution_count": 271,
      "metadata": {
        "id": "VQpItcdCYulM",
        "colab": {
          "base_uri": "https://localhost:8080/"
        },
        "outputId": "6dee682b-6cec-40f5-ad99-f81972492069"
      },
      "outputs": [
        {
          "output_type": "execute_result",
          "data": {
            "text/plain": [
              "array([[100,   1,   2,   3,   4,   5,   6,   7,   8,   9],\n",
              "       [100,   1,   2,   3,   4,   5,   6,   7,   8, 900]])"
            ]
          },
          "metadata": {},
          "execution_count": 271
        }
      ],
      "source": [
        "#stack x1 and x4 along rows\n",
        "\n",
        "row_stack=np.stack((x1,x4),axis=0)\n",
        "row_stack"
      ]
    },
    {
      "cell_type": "markdown",
      "metadata": {
        "id": "YJD_N7B_YulM"
      },
      "source": [
        "We hope now you saw the difference between them.\n",
        "\n",
        "Fun fact! you can even use concatenate() function to join 2 arrays along with the axis. If axis is not explicitly passed, it is taken as 0 ie. along column\n",
        "\n",
        "Lets try this function as well"
      ]
    },
    {
      "cell_type": "code",
      "execution_count": 272,
      "metadata": {
        "id": "P2SNMvTaYulM",
        "colab": {
          "base_uri": "https://localhost:8080/"
        },
        "outputId": "a2b8c974-092a-48bd-8da2-5750ae20c794"
      },
      "outputs": [
        {
          "output_type": "execute_result",
          "data": {
            "text/plain": [
              "array([[1, 2],\n",
              "       [3, 4],\n",
              "       [5, 6],\n",
              "       [7, 8]])"
            ]
          },
          "metadata": {},
          "execution_count": 272
        }
      ],
      "source": [
        "arr1 = np.array([[1, 2], [3, 4]])\n",
        "\n",
        "arr2 = np.array([[5, 6], [7, 8]])\n",
        "\n",
        "\n",
        "\n",
        "\n",
        "\n",
        "##join arr1 and arr2 along rows using concatenate() function\n",
        "\n",
        "concat=np.concatenate((arr1,arr2),axis=0)\n",
        "concat\n"
      ]
    },
    {
      "cell_type": "code",
      "execution_count": 273,
      "metadata": {
        "id": "dbf1xSfeYulN",
        "colab": {
          "base_uri": "https://localhost:8080/"
        },
        "outputId": "35a6bbc8-f94c-402f-8adb-25fbf46a6a81"
      },
      "outputs": [
        {
          "output_type": "execute_result",
          "data": {
            "text/plain": [
              "array([[1, 2, 5, 6],\n",
              "       [3, 4, 7, 8]])"
            ]
          },
          "metadata": {},
          "execution_count": 273
        }
      ],
      "source": [
        "##join arr1 and arr2 along columns using concatenate() function\n",
        "concat=np.concatenate((arr1,arr2), axis=1)\n",
        "concat\n"
      ]
    },
    {
      "cell_type": "markdown",
      "metadata": {
        "id": "WKy9Lu4vYulN"
      },
      "source": [
        "## Adding, Insert and delete Numpy array"
      ]
    },
    {
      "cell_type": "markdown",
      "metadata": {
        "id": "_W4bZ70AYulN"
      },
      "source": [
        "You can also add 2 arrays using append() function also. This function appends values to end of array\n",
        "\n",
        "Lets see how"
      ]
    },
    {
      "cell_type": "code",
      "execution_count": 275,
      "metadata": {
        "id": "yC1yIKfPYulN"
      },
      "outputs": [],
      "source": [
        "# append arr2 to arr1\n",
        "new_arr=np.append(arr1,arr2)\n",
        "\n"
      ]
    },
    {
      "cell_type": "code",
      "source": [
        "new_arr"
      ],
      "metadata": {
        "colab": {
          "base_uri": "https://localhost:8080/"
        },
        "id": "r6nCSOX9ohTL",
        "outputId": "fec587a5-fc87-4428-a7fb-8a1a08a4a7c6"
      },
      "execution_count": 276,
      "outputs": [
        {
          "output_type": "execute_result",
          "data": {
            "text/plain": [
              "array([1, 2, 3, 4, 5, 6, 7, 8])"
            ]
          },
          "metadata": {},
          "execution_count": 276
        }
      ]
    },
    {
      "cell_type": "markdown",
      "metadata": {
        "id": "Jb4EPxL4YulN"
      },
      "source": [
        "Lets use insert() function which Inserts values into array before specified index value"
      ]
    },
    {
      "cell_type": "code",
      "execution_count": 277,
      "metadata": {
        "id": "2pF_KctFYulN",
        "colab": {
          "base_uri": "https://localhost:8080/"
        },
        "outputId": "c95d9cdb-f59a-4acf-cec4-9a10ed86509d"
      },
      "outputs": [
        {
          "output_type": "execute_result",
          "data": {
            "text/plain": [
              "array([100,   1,   2,   3, 100,   1,   2,   3,   4,   5,   6,   7,   8,\n",
              "       900,   4,   5,   6,   7,   8,   9])"
            ]
          },
          "metadata": {},
          "execution_count": 277
        }
      ],
      "source": [
        "# Inserts values into array x1 before index 4 with elements of x4\n",
        "\n",
        "inserts= np.insert(x1,4,x4,)\n",
        "inserts"
      ]
    },
    {
      "cell_type": "markdown",
      "metadata": {
        "id": "uTDcvWAPYulN"
      },
      "source": [
        "You can see in above output we have inserted all the elements of x4 before index 4 in array x1."
      ]
    },
    {
      "cell_type": "code",
      "execution_count": 279,
      "metadata": {
        "id": "btEqORsVYulN",
        "colab": {
          "base_uri": "https://localhost:8080/"
        },
        "outputId": "ff72eca3-6144-4deb-db4c-f4ba446c6868"
      },
      "outputs": [
        {
          "output_type": "execute_result",
          "data": {
            "text/plain": [
              "array([100,   2,   3,   4,   5,   6,   7,   8,   9])"
            ]
          },
          "metadata": {},
          "execution_count": 279
        }
      ],
      "source": [
        "# delete 2nd element from array x2\n",
        "\n",
        "dele=np.delete(x2,1)\n",
        "dele"
      ]
    },
    {
      "cell_type": "markdown",
      "metadata": {
        "id": "HcSC-kfxYulO"
      },
      "source": [
        "Did you see? 2 value is deleted from x2 which was at index position 2"
      ]
    },
    {
      "cell_type": "markdown",
      "metadata": {
        "id": "3XDGaMkZYulS"
      },
      "source": [
        "Good Job learner!"
      ]
    },
    {
      "cell_type": "code",
      "source": [],
      "metadata": {
        "id": "CSpHyauaC9Y4"
      },
      "execution_count": 248,
      "outputs": []
    }
  ],
  "metadata": {
    "kernelspec": {
      "display_name": "Python 3",
      "language": "python",
      "name": "python3"
    },
    "language_info": {
      "codemirror_mode": {
        "name": "ipython",
        "version": 3
      },
      "file_extension": ".py",
      "mimetype": "text/x-python",
      "name": "python",
      "nbconvert_exporter": "python",
      "pygments_lexer": "ipython3",
      "version": "3.8.5"
    },
    "colab": {
      "provenance": []
    }
  },
  "nbformat": 4,
  "nbformat_minor": 0
}